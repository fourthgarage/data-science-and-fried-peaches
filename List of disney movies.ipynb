{
 "cells": [
  {
   "cell_type": "code",
   "execution_count": 19,
   "metadata": {},
   "outputs": [],
   "source": [
    "from bs4 import BeautifulSoup as bs\n",
    "import requests\n",
    "import matplotlib.pyplot as plt\n",
    "import pandas as pd\n",
    "import numpy as np"
   ]
  },
  {
   "cell_type": "code",
   "execution_count": 20,
   "metadata": {},
   "outputs": [],
   "source": [
    "r = requests.get('https://en.wikipedia.org/wiki/List_of_Walt_Disney_Pictures_films')\n",
    "soup = bs(r.content)"
   ]
  },
  {
   "cell_type": "markdown",
   "metadata": {},
   "source": [
    "### function to get value from \"td\" tag"
   ]
  },
  {
   "cell_type": "code",
   "execution_count": 21,
   "metadata": {},
   "outputs": [],
   "source": [
    "def get_content_value(row_data):\n",
    "    if row_data.find('li'):  # Если есть список, то записываем данные в список\n",
    "        return [li.get_text(\" \", strip = True).replace(\"\\xa0\", \" \") for li in row_data.find_all('li')]\n",
    "    else:\n",
    "        return row_data.get_text(\" \", strip = True).replace(\"\\xa0\", \" \") # иначе просто считываем и удаляем ненужный символ\n",
    "    \n",
    "      "
   ]
  },
  {
   "cell_type": "markdown",
   "metadata": {},
   "source": [
    "### function to get a list of links to relevant movies"
   ]
  },
  {
   "cell_type": "code",
   "execution_count": 22,
   "metadata": {},
   "outputs": [],
   "source": [
    "# ф-я чистовик. Сюа помещу готовый код\n",
    "links_list = []\n",
    "def get_links(html):\n",
    "    r = requests.get(html)\n",
    "    soup = bs(r.content)\n",
    "    tables = soup.find_all('table', class_='wikitable sortable')[:-1]\n",
    "    for row in tables:    # Открывается таблица\n",
    "        tr = row.find_all('tr')  # кол-во строк в ней\n",
    "        for i in range(1, len(tr)):    # открывается строка таблицы\n",
    "            if(row.find_all('tr')[i].find_all('td')[1].find('a')):\n",
    "                sub_tag = row.find_all('tr')[i]\n",
    "                tag = sub_tag.find_all('td')[1].find('a')\n",
    "                s1 = 'https://en.wikipedia.org'\n",
    "                s2 = tag['href']\n",
    "                link = s1 + s2   # Ссылка на страницу данного фильма\n",
    "                links_list.append(link)\n",
    "            else:\n",
    "                continue\n",
    "    return links_list"
   ]
  },
  {
   "cell_type": "code",
   "execution_count": 23,
   "metadata": {},
   "outputs": [
    {
     "data": {
      "text/plain": [
       "436"
      ]
     },
     "execution_count": 23,
     "metadata": {},
     "output_type": "execute_result"
    }
   ],
   "source": [
    "get_links('https://en.wikipedia.org/wiki/List_of_Walt_Disney_Pictures_films')\n",
    "len(links_list)"
   ]
  },
  {
   "cell_type": "markdown",
   "metadata": {},
   "source": [
    "### scraping information about each movie on the list and put it all  on a new list"
   ]
  },
  {
   "cell_type": "code",
   "execution_count": 24,
   "metadata": {},
   "outputs": [
    {
     "name": "stdout",
     "output_type": "stream",
     "text": [
      "436\n"
     ]
    }
   ],
   "source": [
    "movie_info_list = []\n",
    "print(len(links_list))\n",
    "def clean_tags(soup):\n",
    "    for tag in soup.find_all([\"sup\", \"span\"]):\n",
    "        tag.decompose()\n",
    "clean_tags(soup)\n",
    "for number, link in enumerate(links_list):\n",
    "    req = requests.get(link)\n",
    "    link_soup = bs(req.content)\n",
    "    info_box = link_soup.find(class_=\"infobox vevent\")\n",
    "    info_rows = info_box.find_all('tr')\n",
    "    movie_info = {}\n",
    "    for index, row in enumerate(info_rows):\n",
    "        if index == 0:\n",
    "            movie_info['title'] = row.find('th').get_text(\" \", strip = True)\n",
    "        elif index == 1:\n",
    "            continue\n",
    "        elif (row.find('td') and row.find('th')):\n",
    "            content_key = row.find('th').get_text(\" \", strip = True)\n",
    "            content_value = get_content_value(row.find('td'))         # значение словаря - текст в td\n",
    "            movie_info[content_key] = content_value \n",
    "        else:\n",
    "            continue\n",
    "    movie_info_list.append(movie_info)"
   ]
  },
  {
   "cell_type": "code",
   "execution_count": 25,
   "metadata": {},
   "outputs": [
    {
     "data": {
      "text/plain": [
       "436"
      ]
     },
     "execution_count": 25,
     "metadata": {},
     "output_type": "execute_result"
    }
   ],
   "source": [
    "len(movie_info_list)"
   ]
  },
  {
   "cell_type": "markdown",
   "metadata": {},
   "source": [
    "### Save/Load our data"
   ]
  },
  {
   "cell_type": "code",
   "execution_count": 26,
   "metadata": {},
   "outputs": [],
   "source": [
    "import json\n",
    "def save_data(title, data):\n",
    "    with open(title, 'w', encoding = 'utf-8') as f:\n",
    "        json.dump(data, f, ensure_ascii=False, indent=2)"
   ]
  },
  {
   "cell_type": "code",
   "execution_count": 27,
   "metadata": {},
   "outputs": [],
   "source": [
    "def load_data(title):\n",
    "    with open(title, encoding = 'utf-8') as f:\n",
    "        return json.load(f)"
   ]
  },
  {
   "cell_type": "code",
   "execution_count": 28,
   "metadata": {},
   "outputs": [],
   "source": [
    "save_data('disney_data_cleaned.json', movie_info_list)"
   ]
  },
  {
   "cell_type": "code",
   "execution_count": null,
   "metadata": {},
   "outputs": [],
   "source": []
  },
  {
   "cell_type": "code",
   "execution_count": null,
   "metadata": {},
   "outputs": [],
   "source": []
  },
  {
   "cell_type": "code",
   "execution_count": null,
   "metadata": {},
   "outputs": [],
   "source": []
  },
  {
   "cell_type": "code",
   "execution_count": null,
   "metadata": {},
   "outputs": [],
   "source": []
  }
 ],
 "metadata": {
  "kernelspec": {
   "display_name": "Python 3",
   "language": "python",
   "name": "python3"
  },
  "language_info": {
   "codemirror_mode": {
    "name": "ipython",
    "version": 3
   },
   "file_extension": ".py",
   "mimetype": "text/x-python",
   "name": "python",
   "nbconvert_exporter": "python",
   "pygments_lexer": "ipython3",
   "version": "3.8.3"
  }
 },
 "nbformat": 4,
 "nbformat_minor": 4
}
