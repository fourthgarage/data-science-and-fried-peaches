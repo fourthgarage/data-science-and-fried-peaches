{
 "cells": [
  {
   "cell_type": "code",
   "execution_count": 69,
   "metadata": {},
   "outputs": [],
   "source": [
    "import pandas as pd\n",
    "import numpy as np\n",
    "import matplotlib.pyplot as plt\n",
    "import seaborn as sns"
   ]
  },
  {
   "cell_type": "code",
   "execution_count": 70,
   "metadata": {},
   "outputs": [
    {
     "data": {
      "text/html": [
       "<div>\n",
       "<style scoped>\n",
       "    .dataframe tbody tr th:only-of-type {\n",
       "        vertical-align: middle;\n",
       "    }\n",
       "\n",
       "    .dataframe tbody tr th {\n",
       "        vertical-align: top;\n",
       "    }\n",
       "\n",
       "    .dataframe thead th {\n",
       "        text-align: right;\n",
       "    }\n",
       "</style>\n",
       "<table border=\"1\" class=\"dataframe\">\n",
       "  <thead>\n",
       "    <tr style=\"text-align: right;\">\n",
       "      <th></th>\n",
       "      <th>id</th>\n",
       "      <th>age</th>\n",
       "      <th>Дата первого занятия</th>\n",
       "      <th>Курс</th>\n",
       "      <th>М2</th>\n",
       "    </tr>\n",
       "  </thead>\n",
       "  <tbody>\n",
       "    <tr>\n",
       "      <th>0</th>\n",
       "      <td>2538</td>\n",
       "      <td>11.0</td>\n",
       "      <td>28.02.2021</td>\n",
       "      <td>Unity</td>\n",
       "      <td>0</td>\n",
       "    </tr>\n",
       "    <tr>\n",
       "      <th>1</th>\n",
       "      <td>2615</td>\n",
       "      <td>12.0</td>\n",
       "      <td>14.02.2021</td>\n",
       "      <td>Unity</td>\n",
       "      <td>0</td>\n",
       "    </tr>\n",
       "    <tr>\n",
       "      <th>2</th>\n",
       "      <td>2643</td>\n",
       "      <td>14.0</td>\n",
       "      <td>21.02.2021</td>\n",
       "      <td>Веб-дизайн</td>\n",
       "      <td>1</td>\n",
       "    </tr>\n",
       "    <tr>\n",
       "      <th>3</th>\n",
       "      <td>2968</td>\n",
       "      <td>11.0</td>\n",
       "      <td>24.01.2021</td>\n",
       "      <td>Python Базовый</td>\n",
       "      <td>0</td>\n",
       "    </tr>\n",
       "    <tr>\n",
       "      <th>4</th>\n",
       "      <td>3014</td>\n",
       "      <td>15.0</td>\n",
       "      <td>14.03.2021</td>\n",
       "      <td>Веб-дизайн</td>\n",
       "      <td>1</td>\n",
       "    </tr>\n",
       "  </tbody>\n",
       "</table>\n",
       "</div>"
      ],
      "text/plain": [
       "     id   age Дата первого занятия            Курс  М2\n",
       "0  2538  11.0           28.02.2021           Unity   0\n",
       "1  2615  12.0           14.02.2021           Unity   0\n",
       "2  2643  14.0           21.02.2021      Веб-дизайн   1\n",
       "3  2968  11.0           24.01.2021  Python Базовый   0\n",
       "4  3014  15.0           14.03.2021      Веб-дизайн   1"
      ]
     },
     "execution_count": 70,
     "metadata": {},
     "output_type": "execute_result"
    }
   ],
   "source": [
    "df = pd.read_csv('kodland.csv')\n",
    "df.head()"
   ]
  },
  {
   "cell_type": "markdown",
   "metadata": {},
   "source": [
    "<h3 style=\"color:magenta\">1. Предобработка данных</h3>"
   ]
  },
  {
   "cell_type": "markdown",
   "metadata": {},
   "source": [
    "<h4>1.1 Поле \"Age\"</h4>"
   ]
  },
  {
   "cell_type": "code",
   "execution_count": 71,
   "metadata": {},
   "outputs": [
    {
     "data": {
      "text/plain": [
       "id                        0\n",
       "age                     150\n",
       "Дата первого занятия      0\n",
       "Курс                      0\n",
       "М2                        0\n",
       "dtype: int64"
      ]
     },
     "execution_count": 71,
     "metadata": {},
     "output_type": "execute_result"
    }
   ],
   "source": [
    "# Во-первых, проверим пропущенные значения и None\n",
    "df.isna().sum()"
   ]
  },
  {
   "cell_type": "markdown",
   "metadata": {},
   "source": [
    "<p>В поле \"age\" 150 пропущенных значений.</p> <p>Рассчитаем средний возраст учеников в зависимости от курса, на котором они обучаются</p>"
   ]
  },
  {
   "cell_type": "code",
   "execution_count": 72,
   "metadata": {},
   "outputs": [
    {
     "data": {
      "image/png": "[encoded data removed]",
      "text/plain": [
       "<Figure size 576x216 with 1 Axes>"
      ]
     },
     "metadata": {
      "needs_background": "light"
     },
     "output_type": "display_data"
    },
    {
     "name": "stdout",
     "output_type": "stream",
     "text": [
      "Средний возраст:  12.8\n"
     ]
    }
   ],
   "source": [
    "plt.figure(figsize = (8,3))\n",
    "plt.title('Распределение учеников курса \"Python базовый\" по возрасту', fontsize = 14)\n",
    "sns.boxplot(df[df['Курс'] == 'Python Базовый']['age'])\n",
    "plt.show()\n",
    "print('Средний возраст: ', np.round(df[df['Курс'] == 'Python Базовый']['age'].mean(), 1))"
   ]
  },
  {
   "cell_type": "code",
   "execution_count": 73,
   "metadata": {},
   "outputs": [
    {
     "data": {
      "image/png": "[encoded data removed]",
      "text/plain": [
       "<Figure size 576x216 with 1 Axes>"
      ]
     },
     "metadata": {
      "needs_background": "light"
     },
     "output_type": "display_data"
    },
    {
     "name": "stdout",
     "output_type": "stream",
     "text": [
      "Средний возраст:  13.8\n"
     ]
    }
   ],
   "source": [
    "plt.figure(figsize = (8,3))\n",
    "plt.title('Распределение учеников курса \"Веб-дизайн\" по возрасту', fontsize = 14)\n",
    "sns.boxplot(df[df['Курс'] == 'Веб-дизайн']['age'])\n",
    "plt.show()\n",
    "print('Средний возраст: ', np.round(df[df['Курс'] == 'Веб-дизайн']['age'].mean(), 1))"
   ]
  },
  {
   "cell_type": "code",
   "execution_count": 74,
   "metadata": {},
   "outputs": [
    {
     "data": {
      "image/png": "[encoded data removed]",
      "text/plain": [
       "<Figure size 576x216 with 1 Axes>"
      ]
     },
     "metadata": {
      "needs_background": "light"
     },
     "output_type": "display_data"
    },
    {
     "name": "stdout",
     "output_type": "stream",
     "text": [
      "Средний возраст:  14.2\n"
     ]
    }
   ],
   "source": [
    "plt.figure(figsize = (8,3))\n",
    "plt.title('Распределение учеников курса \"Unity\" по возрасту', fontsize = 14)\n",
    "sns.boxplot(df[df['Курс'] == 'Unity']['age'])\n",
    "plt.show()\n",
    "print('Средний возраст: ', np.round(df[df['Курс'] == 'Unity']['age'].mean(), 1))"
   ]
  },
  {
   "cell_type": "markdown",
   "metadata": {},
   "source": [
    "<p>Есть выбор из двух вариантов работы с пропущенными значениями: </p>\n",
    "<ol>\n",
    "    <li>Заменить их средними значениями возраста по данному курсу(средний возраст был получен выше)</li>\n",
    "    <li>Удалить строки с пропущенным значением возраста</li>\n",
    "    \n",
    "</ol>\n",
    "<p>Первый вариант хорош для построения модели. Однако, для данной задачи лучше подойдет второй вариант. Поэтому следующий шаг - удаление ненужных строк</p>"
   ]
  },
  {
   "cell_type": "markdown",
   "metadata": {},
   "source": [
    "<h4>Удалим строки с пропущенным значением возраста</h4>"
   ]
  },
  {
   "cell_type": "code",
   "execution_count": 75,
   "metadata": {},
   "outputs": [],
   "source": [
    "# Удаление строк с пропущенным возрастом  \n",
    "df = df.drop(df[df['age'].isna()].index)"
   ]
  },
  {
   "cell_type": "code",
   "execution_count": 76,
   "metadata": {},
   "outputs": [
    {
     "data": {
      "text/plain": [
       "id                      0\n",
       "age                     0\n",
       "Дата первого занятия    0\n",
       "Курс                    0\n",
       "М2                      0\n",
       "dtype: int64"
      ]
     },
     "execution_count": 76,
     "metadata": {},
     "output_type": "execute_result"
    }
   ],
   "source": [
    "# Посмотрим на результат \n",
    "df.isna().sum()"
   ]
  },
  {
   "cell_type": "markdown",
   "metadata": {},
   "source": [
    "Пропущенных значений не осталось"
   ]
  },
  {
   "cell_type": "markdown",
   "metadata": {},
   "source": [
    "<h4>1.2 Поле \"Дата первого занятия\"</h4>\n"
   ]
  },
  {
   "cell_type": "markdown",
   "metadata": {},
   "source": [
    "Преобразуем это поле в формат datetime"
   ]
  },
  {
   "cell_type": "code",
   "execution_count": 77,
   "metadata": {},
   "outputs": [],
   "source": [
    "df['Дата первого занятия'] = pd.to_datetime(df['Дата первого занятия'], dayfirst = True)"
   ]
  },
  {
   "cell_type": "code",
   "execution_count": 78,
   "metadata": {},
   "outputs": [
    {
     "name": "stdout",
     "output_type": "stream",
     "text": [
      "<class 'pandas.core.frame.DataFrame'>\n",
      "Int64Index: 2022 entries, 0 to 2171\n",
      "Data columns (total 5 columns):\n",
      " #   Column                Non-Null Count  Dtype         \n",
      "---  ------                --------------  -----         \n",
      " 0   id                    2022 non-null   int64         \n",
      " 1   age                   2022 non-null   float64       \n",
      " 2   Дата первого занятия  2022 non-null   datetime64[ns]\n",
      " 3   Курс                  2022 non-null   object        \n",
      " 4   М2                    2022 non-null   int64         \n",
      "dtypes: datetime64[ns](1), float64(1), int64(2), object(1)\n",
      "memory usage: 94.8+ KB\n"
     ]
    }
   ],
   "source": [
    "# Проверим, изменился ли тип\n",
    "df.info()"
   ]
  },
  {
   "cell_type": "markdown",
   "metadata": {},
   "source": [
    "<h3 style=\"color:magenta\">2. Анализ оттока по курсу</h3>"
   ]
  },
  {
   "cell_type": "markdown",
   "metadata": {},
   "source": [
    "По условию задания - датасет составлен 1 апреля. Если считать, что датасет составлен с утра, то первое занятие 2 модуля успели посетить те ученики, у которых первое занятие было не позже 3 марта.\n",
    "Ученики, у которых первое занятие 4 марта и позже, в анализе оттока не учавствуют. Следовательно, будет целесообразно сократить датасет"
   ]
  },
  {
   "cell_type": "markdown",
   "metadata": {},
   "source": [
    "<h4>2.1. Подготовка данных для анализа</h4>"
   ]
  },
  {
   "cell_type": "code",
   "execution_count": 79,
   "metadata": {},
   "outputs": [],
   "source": [
    "# Сортировка датасета по дате\n",
    "df = df.sort_values(by = 'Дата первого занятия')"
   ]
  },
  {
   "cell_type": "code",
   "execution_count": 80,
   "metadata": {},
   "outputs": [
    {
     "name": "stdout",
     "output_type": "stream",
     "text": [
      "После сортировки из 2172 строк в датасете осталось 1043 строк\n"
     ]
    }
   ],
   "source": [
    "# Удаляю строки, соответствующие детям, не успевшим дойти до 2 модуля\n",
    "df = df.loc[df['Дата первого занятия'] < '2021-03-03']\n",
    "print(f'После сортировки из 2172 строк в датасете осталось {len(df)} строк')"
   ]
  },
  {
   "cell_type": "markdown",
   "metadata": {},
   "source": [
    "Создам 3 подвыборки(для каждого курса), чтобы узнать отток по каждой"
   ]
  },
  {
   "cell_type": "code",
   "execution_count": 81,
   "metadata": {},
   "outputs": [
    {
     "name": "stdout",
     "output_type": "stream",
     "text": [
      "размер датасета по курсу python:  (751, 5) \n",
      "\n",
      "Количество ушедших и оставшихся учеников:\n",
      " 0    398\n",
      "1    353\n",
      "Name: М2, dtype: int64\n"
     ]
    }
   ],
   "source": [
    "# Подвыборка по python\n",
    "df_py = df[df['Курс'] == 'Python Базовый']\n",
    "print('размер датасета по курсу python: ', df_py.shape, '\\n')\n",
    "print('Количество ушедших и оставшихся учеников:\\n', df_py['М2'].value_counts())"
   ]
  },
  {
   "cell_type": "code",
   "execution_count": 82,
   "metadata": {},
   "outputs": [
    {
     "name": "stdout",
     "output_type": "stream",
     "text": [
      "размер датасета по курсу web-дизайна:  (234, 5) \n",
      "\n",
      "Количество ушедших и оставшихся учеников:\n",
      " 1    129\n",
      "0    105\n",
      "Name: М2, dtype: int64\n"
     ]
    }
   ],
   "source": [
    "# Подвыборка по Web-дизайну\n",
    "df_web = df[df['Курс'] == 'Веб-дизайн']\n",
    "print('размер датасета по курсу web-дизайна: ', df_web.shape, '\\n')\n",
    "print('Количество ушедших и оставшихся учеников:\\n', df_web['М2'].value_counts())"
   ]
  },
  {
   "cell_type": "code",
   "execution_count": 83,
   "metadata": {},
   "outputs": [
    {
     "name": "stdout",
     "output_type": "stream",
     "text": [
      "размер датасета по курсу Unity:  (58, 5) \n",
      "\n",
      "Количество ушедших и оставшихся учеников:\n",
      " 0    35\n",
      "1    23\n",
      "Name: М2, dtype: int64\n"
     ]
    }
   ],
   "source": [
    "# Подвыборка по Unity\n",
    "df_unity = df[df['Курс'] == 'Unity']\n",
    "print('размер датасета по курсу Unity: ', df_unity.shape, '\\n')\n",
    "print('Количество ушедших и оставшихся учеников:\\n', df_unity['М2'].value_counts())"
   ]
  },
  {
   "cell_type": "markdown",
   "metadata": {},
   "source": [
    "<h4>2.2. Построение графиков</h4>"
   ]
  },
  {
   "cell_type": "code",
   "execution_count": 84,
   "metadata": {},
   "outputs": [],
   "source": [
    "Courses = ['Python Базовый', 'Веб-дизайн', 'Unity']  # По оси X\n",
    "module_1 = [len(df_py), len(df_web), len(df_unity)]  # кол-во учеников на первом модуле\n",
    "module_2 = [df_py['М2'].value_counts()[1], df_web['М2'].value_counts()[1], df_unity['М2'].value_counts()[1]] # на 2 модуле\n",
    "\n",
    "# список с  процентом оттока для ломанной линии\n",
    "leave_list = [((len(df_py) - df_py['М2'].value_counts()[1])/len(df_py)) * 100, #(всего учеников/кол-во учеников 2 модуля) * 100\n",
    "              ((len(df_web) - df_web['М2'].value_counts()[1])/len(df_web)) * 100,\n",
    "             ((len(df_unity) - df_unity['М2'].value_counts()[1])/len(df_unity)) * 100]"
   ]
  },
  {
   "cell_type": "code",
   "execution_count": 85,
   "metadata": {},
   "outputs": [
    {
     "data": {
      "image/png": "[encoded data removed]",
      "text/plain": [
       "<Figure size 720x504 with 2 Axes>"
      ]
     },
     "metadata": {
      "needs_background": "light"
     },
     "output_type": "display_data"
    }
   ],
   "source": [
    "x = np.arange(len(Courses))  # the label locations\n",
    "width = 0.35  # the width of the bars\n",
    "y_axis = np.arange(1,100, 10)\n",
    "\n",
    "# Гистограмма\n",
    "fig, ax = plt.subplots(figsize = (10,7))\n",
    "rects1 = ax.bar(x - width/2, module_1, width, label = 'Кол-во учеников на 1 модуле')\n",
    "rects2 = ax.bar(x + width/2, module_2, width, label = 'Кол-во учеников на 2 модуле')\n",
    "\n",
    "ax.set_ylabel('Количество учеников' , fontsize = 12)\n",
    "ax.set_title('Диаграмма оттока учеников в зависимости от курса', fontsize = 14)\n",
    "ax.set_xticks(x)\n",
    "ax.set_xticklabels(Courses)\n",
    "#ax.set_yticks(module_1 + module_2)\n",
    "ax.legend()\n",
    "\n",
    "# Значения для столбцов учеников 1 модуля\n",
    "for i, v in enumerate(module_1):\n",
    "    ax.text(i - width/2, v+10, \"%d\" %v, ha = 'center', fontsize = 11)\n",
    "# Значения для столбцов учеников 2 модуля\n",
    "for i, v in enumerate(module_2):\n",
    "    ax.text(i + width/2, v + 10, \"%d\" %v, ha = 'center', fontsize = 11)\n",
    "#ax.bar_label(rects2, padding = 3)\n",
    "\n",
    "# График процентов оттока\n",
    "ax2 = ax.twinx()\n",
    "ax2.plot(x + 0.05, leave_list, c = 'red', marker = 'o', markersize = 10 , label = 'Процент оттока')\n",
    "ax2.set_ylim(20, 70)\n",
    "ax2.set_ylabel('Процент оттока', color = 'red', fontsize = 12)\n",
    "ax2.legend(loc = 'upper center')\n",
    "#ax2.set_yticks(y_axis)\n",
    "\n",
    "for i, v in enumerate(leave_list):\n",
    "    ax2.text(i + 0.05, v+2, \"%d\" %v, ha = 'center', fontsize = 12)\n",
    "\n",
    "fig.tight_layout()\n",
    "\n",
    "plt.show()"
   ]
  },
  {
   "cell_type": "markdown",
   "metadata": {},
   "source": [
    "<h4>Вывод:</h4>\n",
    "<p>Из графика видно, что наибольший отток на курсе Unity(60%). Это курс с наименьшим количеством учеников и наибольшим процентом оттока, при том что данный курс самый \"возрастной\": средний возраст учащихся 14 лет</p>"
   ]
  },
  {
   "cell_type": "markdown",
   "metadata": {},
   "source": [
    "<h3 style=\"color:magenta\">3. Анализ оттока по возрасту</h3>"
   ]
  },
  {
   "cell_type": "markdown",
   "metadata": {},
   "source": [
    "<h4>3.1. Группировка данных по возрасту</h4>"
   ]
  },
  {
   "cell_type": "code",
   "execution_count": 86,
   "metadata": {},
   "outputs": [],
   "source": [
    "# Сначала удалим ненужные выбросы - учеников этого возраста слишком мало, чтобы их оцениватть\n",
    "df = df.loc[(df['age'] != 8.0)]\n",
    "df = df.loc[(df['age'] != 19.0)]"
   ]
  },
  {
   "cell_type": "markdown",
   "metadata": {},
   "source": [
    "<h4>План:</h4>\n",
    "<ol>\n",
    "<li>Сгруппируем исходную выборку по возрасту, тем самым посчитав количество учеников в зависимости от возраста</li>\n",
    "    <li>Сделаем то же самое, только сгруппируем подвыборку из тех учеников, которые перешли на 2 модуль</li>\n",
    "\n",
    "</ol>"
   ]
  },
  {
   "cell_type": "markdown",
   "metadata": {},
   "source": [
    "Сгруппируем датасет по возрасту и посчитаем кол-во строк по каждому возрасту:"
   ]
  },
  {
   "cell_type": "code",
   "execution_count": 87,
   "metadata": {},
   "outputs": [
    {
     "data": {
      "text/plain": [
       "age\n",
       "9.0       3\n",
       "10.0     22\n",
       "11.0    103\n",
       "12.0    276\n",
       "13.0    259\n",
       "14.0    192\n",
       "15.0    122\n",
       "16.0     49\n",
       "17.0     13\n",
       "Name: id, dtype: int64"
      ]
     },
     "execution_count": 87,
     "metadata": {},
     "output_type": "execute_result"
    }
   ],
   "source": [
    "\n",
    "\n",
    "df.groupby('age').count()['id']"
   ]
  },
  {
   "cell_type": "markdown",
   "metadata": {},
   "source": [
    "Сгруппируем строчки, где М2 = 1,  по возрасту. То есть, посчитаем кол-во человек по каждому возрасту, которые перешли на 2 модуль:"
   ]
  },
  {
   "cell_type": "code",
   "execution_count": 88,
   "metadata": {},
   "outputs": [
    {
     "data": {
      "text/plain": [
       "age\n",
       "9.0       2\n",
       "10.0     11\n",
       "11.0     47\n",
       "12.0    121\n",
       "13.0    134\n",
       "14.0     95\n",
       "15.0     61\n",
       "16.0     27\n",
       "17.0      7\n",
       "Name: id, dtype: int64"
      ]
     },
     "execution_count": 88,
     "metadata": {},
     "output_type": "execute_result"
    }
   ],
   "source": [
    "df.where(df['М2'] == 1).groupby('age').count()['id']"
   ]
  },
  {
   "cell_type": "code",
   "execution_count": null,
   "metadata": {},
   "outputs": [],
   "source": []
  },
  {
   "cell_type": "markdown",
   "metadata": {},
   "source": [
    "<h4>3.2. Построение графиков</h4>"
   ]
  },
  {
   "cell_type": "code",
   "execution_count": 89,
   "metadata": {},
   "outputs": [
    {
     "data": {
      "image/png": "[encoded data removed]",
      "text/plain": [
       "<Figure size 720x576 with 2 Axes>"
      ]
     },
     "metadata": {
      "needs_background": "light"
     },
     "output_type": "display_data"
    }
   ],
   "source": [
    "# Ось X и ширина колонки\n",
    "x = np.arange(len(df.groupby('age').count().index))\n",
    "width = 0.35\n",
    "\n",
    "# Списки значений кол-ва учеников по возрастам\n",
    "module_1_values = []\n",
    "module_2_values = []\n",
    "\n",
    "# График\n",
    "fig, ax = plt.subplots(figsize = (10,8))\n",
    "# Построение столбцов\n",
    "cols1 = ax.bar(x - width/2, df.groupby('age').count()['id'], width, label = 'Кол-во учеников на 1 модуле')\n",
    "cols2 = ax.bar(x + width/2, df.where(df['М2'] == 1).groupby('age').count()['id'], width, label = 'Кол-во учеников на 2 модуле')\n",
    "\n",
    "# Подписи значений для столбцов с первым модулем\n",
    "for i, v in enumerate(df.groupby('age').count()['id']):\n",
    "    module_1_values.append(v)\n",
    "    ax.text(i - width/2, v+3, \"%d\" %v, ha = 'center', fontsize = 11)\n",
    "# Подписи значений для столбцов со вторым модулем\n",
    "for i, v in enumerate(df.where(df['М2'] == 1).groupby('age').count()['id']):\n",
    "    module_2_values.append(v)\n",
    "    ax.text(i + width/2, v+3, \"%d\" %v, ha = 'center', fontsize = 11)\n",
    "# Настройки внешнего вида графика\n",
    "ax.set_title('Диаграмма оттока учеников в зависимости от их возраста', fontsize = 14)\n",
    "ax.set_xlabel('Возраст учеников', fontsize = 12)\n",
    "ax.set_ylabel('Количество учеников', fontsize = 12)\n",
    "ax.set_xticks(x)\n",
    "ax.set_xticklabels(df.groupby('age').count().index)\n",
    "ax.legend()\n",
    "\n",
    "# вторая ось\n",
    "ax2 = ax.twinx()\n",
    "\n",
    "#Список процентов оттока по возрастам\n",
    "leave_percent_list = []\n",
    "#Заполняем его значениями\n",
    "for i in range(len(module_1_values)):\n",
    "    leave_percent = ((module_1_values[i] - module_2_values[i])/module_1_values[i]) * 100\n",
    "    leave_percent_list.append(leave_percent)\n",
    "ax2.plot(x + 0.1, leave_percent_list, c = 'red', marker = 'o', markersize = 10, label = 'процент оттока')\n",
    "ax2.set_ylim(0, 100)\n",
    "ax2.set_ylabel('Процент оттока', color = 'red', fontsize = 12)\n",
    "ax2.legend(loc = 'upper left')\n",
    "\n",
    "# Значения точек\n",
    "for i, v in enumerate(leave_percent_list):\n",
    "    ax2.text(i + 0.1, v+1.8, \"%d\" %v, ha = 'center', fontsize = 12)\n",
    "\n",
    "fig.tight_layout()\n",
    "plt.show()"
   ]
  },
  {
   "cell_type": "markdown",
   "metadata": {},
   "source": [
    "Проверим гипотезу, что дети младше 12 и старше 14 лет чаще уходят в отток.\n",
    "Если посмотреть на график и посчитать средний процент оттока для 3 возрастных категорий, то увидим, что:\n",
    "<ul>\n",
    "    <li>У детей младше 12 лет, средний отток: 45.6%</li>\n",
    "    <li>У детей 12-14 лет, средний отток: 51.3%</li>\n",
    "    <li>У детей старше 14 лет, средний отток: 46.6%</li>\n",
    "</ul>\n",
    "У детей 12-14 лет средний отток выше, поэтому гипотезу можно опровергнуть"
   ]
  },
  {
   "cell_type": "code",
   "execution_count": null,
   "metadata": {},
   "outputs": [],
   "source": []
  },
  {
   "cell_type": "code",
   "execution_count": null,
   "metadata": {},
   "outputs": [],
   "source": []
  },
  {
   "cell_type": "code",
   "execution_count": null,
   "metadata": {},
   "outputs": [],
   "source": []
  },
  {
   "cell_type": "code",
   "execution_count": null,
   "metadata": {},
   "outputs": [],
   "source": []
  }
 ],
 "metadata": {
  "kernelspec": {
   "display_name": "Python 3",
   "language": "python",
   "name": "python3"
  },
  "language_info": {
   "codemirror_mode": {
    "name": "ipython",
    "version": 3
   },
   "file_extension": ".py",
   "mimetype": "text/x-python",
   "name": "python",
   "nbconvert_exporter": "python",
   "pygments_lexer": "ipython3",
   "version": "3.8.3"
  }
 },
 "nbformat": 4,
 "nbformat_minor": 4
}
